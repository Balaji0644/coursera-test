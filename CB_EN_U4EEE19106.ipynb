{
  "nbformat": 4,
  "nbformat_minor": 0,
  "metadata": {
    "colab": {
      "name": "CB.EN.U4EEE19106.ipynb",
      "provenance": [],
      "collapsed_sections": [
        "sy5Xmh8SCUz_",
        "gvacp0ItDlm1",
        "-aBP9PaUEQUr",
        "_AhyF-CXGtBl",
        "yrh0JkcgJISS",
        "Makh0Nd0KX0j"
      ],
      "authorship_tag": "ABX9TyMFdN+1RurYHEelVp2x+G3k",
      "include_colab_link": true
    },
    "kernelspec": {
      "name": "python3",
      "display_name": "Python 3"
    },
    "language_info": {
      "name": "python"
    }
  },
  "cells": [
    {
      "cell_type": "markdown",
      "metadata": {
        "id": "view-in-github",
        "colab_type": "text"
      },
      "source": [
        "<a href=\"https://colab.research.google.com/github/Balaji0644/coursera-test/blob/main/CB_EN_U4EEE19106.ipynb\" target=\"_parent\"><img src=\"https://colab.research.google.com/assets/colab-badge.svg\" alt=\"Open In Colab\"/></a>"
      ]
    },
    {
      "cell_type": "code",
      "source": [
        "print(\"BALAJI KV\")"
      ],
      "metadata": {
        "id": "zErpQ0JXfWJY",
        "outputId": "d2b51c68-0a71-44a6-bc5d-8e4b5a958065",
        "colab": {
          "base_uri": "https://localhost:8080/"
        }
      },
      "execution_count": null,
      "outputs": [
        {
          "output_type": "stream",
          "name": "stdout",
          "text": [
            "BALAJI KV\n"
          ]
        }
      ]
    },
    {
      "cell_type": "markdown",
      "source": [
        "**19EEE313** INTRODUCTION TO PYTHON PROGRAMMING\n",
        "\n",
        "---\n",
        "\n",
        "\n"
      ],
      "metadata": {
        "id": "1L8cz4qW_-2f"
      }
    },
    {
      "cell_type": "markdown",
      "source": [
        "#data type\n"
      ],
      "metadata": {
        "id": "sy5Xmh8SCUz_"
      }
    },
    {
      "cell_type": "code",
      "source": [
        "x=10\n",
        "type(x)"
      ],
      "metadata": {
        "colab": {
          "base_uri": "https://localhost:8080/"
        },
        "id": "plavfpU10bg8",
        "outputId": "98773bec-f9b9-4f70-bf66-a1e05dea0609"
      },
      "execution_count": null,
      "outputs": [
        {
          "output_type": "execute_result",
          "data": {
            "text/plain": [
              "int"
            ]
          },
          "metadata": {},
          "execution_count": 2
        }
      ]
    },
    {
      "cell_type": "code",
      "source": [
        "x=4.0\n",
        "type(x)"
      ],
      "metadata": {
        "id": "xNDGEVIu0g6D",
        "colab": {
          "base_uri": "https://localhost:8080/"
        },
        "outputId": "9b5a908d-faec-4aaa-9d59-ad81a78debbc"
      },
      "execution_count": null,
      "outputs": [
        {
          "output_type": "execute_result",
          "data": {
            "text/plain": [
              "float"
            ]
          },
          "metadata": {},
          "execution_count": 3
        }
      ]
    },
    {
      "cell_type": "code",
      "source": [
        "x=74j\n",
        "type(x)"
      ],
      "metadata": {
        "colab": {
          "base_uri": "https://localhost:8080/"
        },
        "id": "1GO2Kg1R0nNM",
        "outputId": "7b870bae-0e10-4329-96d4-7f59af2333b1"
      },
      "execution_count": null,
      "outputs": [
        {
          "output_type": "execute_result",
          "data": {
            "text/plain": [
              "complex"
            ]
          },
          "metadata": {},
          "execution_count": 4
        }
      ]
    },
    {
      "cell_type": "code",
      "execution_count": null,
      "metadata": {
        "colab": {
          "base_uri": "https://localhost:8080/"
        },
        "id": "diCvxhDS2XNu",
        "outputId": "d4c7825f-aa9b-4e2e-9991-b8857a8da29d"
      },
      "outputs": [
        {
          "output_type": "stream",
          "name": "stdout",
          "text": [
            "Hello World:)\n"
          ]
        }
      ],
      "source": [
        "print('Hello World:)')"
      ]
    },
    {
      "cell_type": "code",
      "source": [
        "y=[\"Mango\",\"Banana\",\"Watermelon\"]\n",
        "type(y)"
      ],
      "metadata": {
        "colab": {
          "base_uri": "https://localhost:8080/"
        },
        "id": "8YoJPPND0YUS",
        "outputId": "b4cba922-115e-4581-9c59-5815ca11ac95"
      },
      "execution_count": null,
      "outputs": [
        {
          "output_type": "execute_result",
          "data": {
            "text/plain": [
              "list"
            ]
          },
          "metadata": {},
          "execution_count": 6
        }
      ]
    },
    {
      "cell_type": "code",
      "source": [
        "y=(\"Mango\",\"Banana\",\"Watermelon\")\n",
        "type(y)"
      ],
      "metadata": {
        "colab": {
          "base_uri": "https://localhost:8080/"
        },
        "id": "fxjxyuWa1yCn",
        "outputId": "3f6c2c01-085c-4f09-96f7-ad0d97c802df"
      },
      "execution_count": null,
      "outputs": [
        {
          "output_type": "execute_result",
          "data": {
            "text/plain": [
              "tuple"
            ]
          },
          "metadata": {},
          "execution_count": 7
        }
      ]
    },
    {
      "cell_type": "code",
      "source": [
        "y={\"Mango\",\"Banana\",\"Watermelon\"}\n",
        "type(y)"
      ],
      "metadata": {
        "colab": {
          "base_uri": "https://localhost:8080/"
        },
        "id": "k4llPXxZ14Pc",
        "outputId": "b605ad06-8404-47d2-8da2-7a5c4e6f9f05"
      },
      "execution_count": null,
      "outputs": [
        {
          "output_type": "execute_result",
          "data": {
            "text/plain": [
              "set"
            ]
          },
          "metadata": {},
          "execution_count": 8
        }
      ]
    },
    {
      "cell_type": "markdown",
      "source": [
        "all this different variable are considered as dictionary in python\n",
        "\n",
        "INFERENCE:Because of 'type' we can know the type of input very easily\n"
      ],
      "metadata": {
        "id": "MVZroYbfCjCc"
      }
    },
    {
      "cell_type": "code",
      "source": [
        "z=True\n",
        "type(z)"
      ],
      "metadata": {
        "colab": {
          "base_uri": "https://localhost:8080/"
        },
        "id": "uLPY07ud2yow",
        "outputId": "c5f4d446-fb05-4afa-e278-165696c53bdf"
      },
      "execution_count": null,
      "outputs": [
        {
          "output_type": "execute_result",
          "data": {
            "text/plain": [
              "bool"
            ]
          },
          "metadata": {},
          "execution_count": 9
        }
      ]
    },
    {
      "cell_type": "code",
      "source": [
        "# Type Conversion\n",
        "x=50 #int\n",
        "print(x)\n",
        "a=float(x)\n",
        "print(a)"
      ],
      "metadata": {
        "colab": {
          "base_uri": "https://localhost:8080/"
        },
        "id": "nclEgvba205X",
        "outputId": "d73a448f-42fa-44ce-c017-d8fbb1e9398d"
      },
      "execution_count": null,
      "outputs": [
        {
          "output_type": "stream",
          "name": "stdout",
          "text": [
            "50\n",
            "50.0\n"
          ]
        }
      ]
    },
    {
      "cell_type": "code",
      "source": [
        "y=75.496 #float\n",
        "b=int(y)\n",
        "print(y)\n",
        "print(b)"
      ],
      "metadata": {
        "colab": {
          "base_uri": "https://localhost:8080/"
        },
        "id": "KIILqUqe3BG0",
        "outputId": "3991e82a-e3aa-46a6-8e46-d5217779f5ec"
      },
      "execution_count": null,
      "outputs": [
        {
          "output_type": "stream",
          "name": "stdout",
          "text": [
            "75.496\n",
            "75\n"
          ]
        }
      ]
    },
    {
      "cell_type": "markdown",
      "source": [
        "#VARIABLES\n",
        "Variable are used for storing data"
      ],
      "metadata": {
        "id": "gvacp0ItDlm1"
      }
    },
    {
      "cell_type": "code",
      "source": [
        "x = 56\n",
        "print(x)"
      ],
      "metadata": {
        "colab": {
          "base_uri": "https://localhost:8080/"
        },
        "id": "S2FZ238p1Tze",
        "outputId": "4698ae7c-006b-4104-aa12-494a5d6146ef"
      },
      "execution_count": null,
      "outputs": [
        {
          "output_type": "stream",
          "name": "stdout",
          "text": [
            "56\n"
          ]
        }
      ]
    },
    {
      "cell_type": "code",
      "source": [
        "x=\"PANT\"\n",
        "print(x)"
      ],
      "metadata": {
        "colab": {
          "base_uri": "https://localhost:8080/"
        },
        "id": "trjZKUek1rSO",
        "outputId": "fb0578e1-341c-4073-fb3b-76ffec732430"
      },
      "execution_count": null,
      "outputs": [
        {
          "output_type": "stream",
          "name": "stdout",
          "text": [
            "PANT\n"
          ]
        }
      ]
    },
    {
      "cell_type": "code",
      "source": [
        "x=6\n",
        "x=\"PANT\"\n",
        "print(x)"
      ],
      "metadata": {
        "colab": {
          "base_uri": "https://localhost:8080/"
        },
        "id": "SxlT-BKq1cae",
        "outputId": "b11a617b-35f6-4b24-c1fd-04bbc784c562"
      },
      "execution_count": null,
      "outputs": [
        {
          "output_type": "stream",
          "name": "stdout",
          "text": [
            "PANT\n"
          ]
        }
      ]
    },
    {
      "cell_type": "markdown",
      "source": [
        "\n",
        "#BOOLEAN\n",
        "IT SHOWS TRU OR FAL"
      ],
      "metadata": {
        "id": "-aBP9PaUEQUr"
      }
    },
    {
      "cell_type": "code",
      "source": [
        "print(100==999)"
      ],
      "metadata": {
        "colab": {
          "base_uri": "https://localhost:8080/"
        },
        "id": "ngX5K63J2F3j",
        "outputId": "7addb8f3-c766-4c36-83d4-526a4237cd4f"
      },
      "execution_count": null,
      "outputs": [
        {
          "output_type": "stream",
          "name": "stdout",
          "text": [
            "False\n"
          ]
        }
      ]
    },
    {
      "cell_type": "code",
      "source": [
        "print(100>99)"
      ],
      "metadata": {
        "colab": {
          "base_uri": "https://localhost:8080/"
        },
        "id": "XvB7ogPx2AFG",
        "outputId": "3db7ec22-77c7-4975-b10a-20780752b85e"
      },
      "execution_count": null,
      "outputs": [
        {
          "output_type": "stream",
          "name": "stdout",
          "text": [
            "True\n"
          ]
        }
      ]
    },
    {
      "cell_type": "code",
      "source": [
        "print(100<99)"
      ],
      "metadata": {
        "colab": {
          "base_uri": "https://localhost:8080/"
        },
        "id": "pX6tjmwz2Non",
        "outputId": "b754878f-37ac-4e6c-ceda-57e0f18c2033"
      },
      "execution_count": null,
      "outputs": [
        {
          "output_type": "stream",
          "name": "stdout",
          "text": [
            "False\n"
          ]
        }
      ]
    },
    {
      "cell_type": "code",
      "source": [
        "print(bool(\"Hi\"))"
      ],
      "metadata": {
        "colab": {
          "base_uri": "https://localhost:8080/"
        },
        "id": "iesNpDqr2Sxv",
        "outputId": "cbff98ff-18a5-4687-c1c5-959085876031"
      },
      "execution_count": null,
      "outputs": [
        {
          "output_type": "stream",
          "name": "stdout",
          "text": [
            "True\n"
          ]
        }
      ]
    },
    {
      "cell_type": "code",
      "source": [
        "print(bool(\"Hi\"))"
      ],
      "metadata": {
        "colab": {
          "base_uri": "https://localhost:8080/"
        },
        "id": "2Ah7NY582X7V",
        "outputId": "f79c3836-2432-4325-d629-be84031871ed"
      },
      "execution_count": null,
      "outputs": [
        {
          "output_type": "stream",
          "name": "stdout",
          "text": [
            "True\n"
          ]
        }
      ]
    },
    {
      "cell_type": "code",
      "source": [
        "x = 65\n",
        "print(bool(x))"
      ],
      "metadata": {
        "colab": {
          "base_uri": "https://localhost:8080/"
        },
        "id": "5Tzt_Vyv2cUS",
        "outputId": "b91e0ec6-7be9-4621-d240-fb6d4aab1c7e"
      },
      "execution_count": null,
      "outputs": [
        {
          "output_type": "stream",
          "name": "stdout",
          "text": [
            "True\n"
          ]
        }
      ]
    },
    {
      "cell_type": "code",
      "source": [
        "x = \"Hi\"\n",
        "print(bool(x))"
      ],
      "metadata": {
        "colab": {
          "base_uri": "https://localhost:8080/"
        },
        "id": "LgIUZtRj2mzx",
        "outputId": "aa3b64f7-8b91-4d67-a162-6f25e7f8f291"
      },
      "execution_count": null,
      "outputs": [
        {
          "output_type": "stream",
          "name": "stdout",
          "text": [
            "True\n"
          ]
        }
      ]
    },
    {
      "cell_type": "markdown",
      "source": [
        "#PYTHON OPERATORS\n",
        "\n",
        ". Arithmetic operators\n",
        "\n",
        ". Assignment operators\n",
        "\n",
        ". Comparison operators\n",
        "\n",
        ". Logical operators\n",
        "\n",
        ". Identity operators\n",
        "\n",
        ". Membership operators\n",
        "\n",
        ". Bitwise operator\n",
        "\n",
        "\n",
        "\n"
      ],
      "metadata": {
        "id": "_AhyF-CXGtBl"
      }
    },
    {
      "cell_type": "code",
      "source": [
        "a=50\n",
        "b=50\n",
        "c=a+b\n",
        "c"
      ],
      "metadata": {
        "colab": {
          "base_uri": "https://localhost:8080/"
        },
        "id": "Nrzpej3-3aDH",
        "outputId": "e5f2c5a8-7e29-4b39-a6d9-5a35ba5c0b5d"
      },
      "execution_count": null,
      "outputs": [
        {
          "output_type": "execute_result",
          "data": {
            "text/plain": [
              "100"
            ]
          },
          "metadata": {},
          "execution_count": 21
        }
      ]
    },
    {
      "cell_type": "code",
      "source": [
        "a=51\n",
        "b=50\n",
        "c=a-b\n",
        "c"
      ],
      "metadata": {
        "colab": {
          "base_uri": "https://localhost:8080/"
        },
        "id": "VOaO-PHw3o1a",
        "outputId": "5da6535e-c02d-4fab-837a-d776e1291477"
      },
      "execution_count": null,
      "outputs": [
        {
          "output_type": "execute_result",
          "data": {
            "text/plain": [
              "1"
            ]
          },
          "metadata": {},
          "execution_count": 22
        }
      ]
    },
    {
      "cell_type": "code",
      "source": [
        "a=50\n",
        "b=50\n",
        "c=a*b\n",
        "c"
      ],
      "metadata": {
        "colab": {
          "base_uri": "https://localhost:8080/"
        },
        "id": "Yx0tZuWe3tLt",
        "outputId": "bcb99383-40f9-4446-8286-aaaf5538ed35"
      },
      "execution_count": null,
      "outputs": [
        {
          "output_type": "execute_result",
          "data": {
            "text/plain": [
              "2500"
            ]
          },
          "metadata": {},
          "execution_count": 23
        }
      ]
    },
    {
      "cell_type": "code",
      "source": [
        "a=50\n",
        "b=50\n",
        "c=a/b\n",
        "c"
      ],
      "metadata": {
        "colab": {
          "base_uri": "https://localhost:8080/"
        },
        "id": "2uTxlwXg3wvf",
        "outputId": "20076b58-8a1a-4135-ee94-40641ee98918"
      },
      "execution_count": null,
      "outputs": [
        {
          "output_type": "execute_result",
          "data": {
            "text/plain": [
              "1.0"
            ]
          },
          "metadata": {},
          "execution_count": 24
        }
      ]
    },
    {
      "cell_type": "code",
      "source": [
        "a=50\n",
        "b=50\n",
        "c=a**b\n",
        "c"
      ],
      "metadata": {
        "colab": {
          "base_uri": "https://localhost:8080/"
        },
        "id": "sPZ4G9xD34uZ",
        "outputId": "b876c2bd-a8f9-4b3f-cacb-05f227d28bd2"
      },
      "execution_count": null,
      "outputs": [
        {
          "output_type": "execute_result",
          "data": {
            "text/plain": [
              "8881784197001252323389053344726562500000000000000000000000000000000000000000000000000"
            ]
          },
          "metadata": {},
          "execution_count": 25
        }
      ]
    },
    {
      "cell_type": "markdown",
      "source": [
        "#ASSIGNMENT OPERATORS"
      ],
      "metadata": {
        "id": "yrh0JkcgJISS"
      }
    },
    {
      "cell_type": "code",
      "source": [
        "x=16\n",
        "print(x)"
      ],
      "metadata": {
        "colab": {
          "base_uri": "https://localhost:8080/"
        },
        "id": "rP4Jy-Yl4zz7",
        "outputId": "e0160861-5220-4618-81ee-33fc35c8da0b"
      },
      "execution_count": null,
      "outputs": [
        {
          "output_type": "stream",
          "name": "stdout",
          "text": [
            "16\n"
          ]
        }
      ]
    },
    {
      "cell_type": "code",
      "source": [
        "x=16\n",
        "x += 4\n",
        "print(x)"
      ],
      "metadata": {
        "colab": {
          "base_uri": "https://localhost:8080/"
        },
        "id": "rlCKgJew4341",
        "outputId": "4ed570c7-7f63-4080-b07f-7c6b25f2c8c1"
      },
      "execution_count": null,
      "outputs": [
        {
          "output_type": "stream",
          "name": "stdout",
          "text": [
            "20\n"
          ]
        }
      ]
    },
    {
      "cell_type": "code",
      "source": [
        "x=16\n",
        "x -= 4\n",
        "print(x)"
      ],
      "metadata": {
        "colab": {
          "base_uri": "https://localhost:8080/"
        },
        "id": "xDE05-wy5EAe",
        "outputId": "eecb4472-5922-4b7a-9d43-1c9bf9a0cb41"
      },
      "execution_count": null,
      "outputs": [
        {
          "output_type": "stream",
          "name": "stdout",
          "text": [
            "12\n"
          ]
        }
      ]
    },
    {
      "cell_type": "code",
      "source": [
        "x=16\n",
        "x *= 4\n",
        "print(x)"
      ],
      "metadata": {
        "colab": {
          "base_uri": "https://localhost:8080/"
        },
        "id": "GfuS0NOB5G5m",
        "outputId": "a20a9dac-114d-4825-c8b3-dd85685eedfb"
      },
      "execution_count": null,
      "outputs": [
        {
          "output_type": "stream",
          "name": "stdout",
          "text": [
            "64\n"
          ]
        }
      ]
    },
    {
      "cell_type": "code",
      "source": [
        "x=16\n",
        "x /= 4\n",
        "print(x)"
      ],
      "metadata": {
        "colab": {
          "base_uri": "https://localhost:8080/"
        },
        "id": "AKH_8kNb5H7_",
        "outputId": "65003b02-a665-4daf-b643-0987453218ad"
      },
      "execution_count": null,
      "outputs": [
        {
          "output_type": "stream",
          "name": "stdout",
          "text": [
            "4.0\n"
          ]
        }
      ]
    },
    {
      "cell_type": "markdown",
      "source": [
        "#COMPARISON OPERATORS\n",
        "Equal to ,Not equal to,Greater than ,Less than , Greater than or equal to , Less than or equal to"
      ],
      "metadata": {
        "id": "Makh0Nd0KX0j"
      }
    },
    {
      "cell_type": "code",
      "source": [
        "x=1\n",
        "y=2\n",
        "print(x==y)"
      ],
      "metadata": {
        "colab": {
          "base_uri": "https://localhost:8080/"
        },
        "id": "jJMdtZhh5SEs",
        "outputId": "4da10f4e-6edd-4846-d179-8e898d5025c4"
      },
      "execution_count": null,
      "outputs": [
        {
          "output_type": "stream",
          "name": "stdout",
          "text": [
            "False\n"
          ]
        }
      ]
    },
    {
      "cell_type": "code",
      "source": [
        "x=1\n",
        "y=2\n",
        "print(x!=y)"
      ],
      "metadata": {
        "colab": {
          "base_uri": "https://localhost:8080/"
        },
        "id": "UyOm01u_5Sql",
        "outputId": "ba179278-4459-40a1-a1bd-d2b9d2e80fa8"
      },
      "execution_count": null,
      "outputs": [
        {
          "output_type": "stream",
          "name": "stdout",
          "text": [
            "True\n"
          ]
        }
      ]
    },
    {
      "cell_type": "code",
      "source": [
        "x=1\n",
        "y=2\n",
        "print(x<=y)"
      ],
      "metadata": {
        "colab": {
          "base_uri": "https://localhost:8080/"
        },
        "id": "3ngbwhDS53MO",
        "outputId": "eae8ae5d-1e76-4d01-f19b-b0bca8dc04f3"
      },
      "execution_count": null,
      "outputs": [
        {
          "output_type": "stream",
          "name": "stdout",
          "text": [
            "True\n"
          ]
        }
      ]
    },
    {
      "cell_type": "code",
      "source": [
        "x=1\n",
        "y=2\n",
        "print(x>=y)"
      ],
      "metadata": {
        "colab": {
          "base_uri": "https://localhost:8080/"
        },
        "id": "hBC5aoAv57y9",
        "outputId": "ab5f4dd4-dd12-415e-d449-ac69bb8b5375"
      },
      "execution_count": null,
      "outputs": [
        {
          "output_type": "stream",
          "name": "stdout",
          "text": [
            "False\n"
          ]
        }
      ]
    },
    {
      "cell_type": "markdown",
      "source": [
        "#LOGICAL OPERATORS\n",
        "and,or,not\n",
        "\n",
        "Conditional statements :if ,else"
      ],
      "metadata": {
        "id": "k1IxFl_DL1Dg"
      }
    },
    {
      "cell_type": "code",
      "source": [
        "a=1000\n",
        "b=500\n",
        "if b>a:\n",
        "  print('b is greater than a')\n",
        "else:\n",
        "   print(\"b is not greater than a\")"
      ],
      "metadata": {
        "colab": {
          "base_uri": "https://localhost:8080/"
        },
        "id": "RYiT0AI46sQm",
        "outputId": "8bb21740-5b48-4158-bc4c-b4d73ffca596"
      },
      "execution_count": null,
      "outputs": [
        {
          "output_type": "stream",
          "name": "stdout",
          "text": [
            "b is not greater than a\n"
          ]
        }
      ]
    },
    {
      "cell_type": "code",
      "source": [
        "a=100\n",
        "b=500\n",
        "if b>a:\n",
        "  print('b is greater than a')\n",
        "else:\n",
        "   print(\"b is not greater than a\")"
      ],
      "metadata": {
        "colab": {
          "base_uri": "https://localhost:8080/"
        },
        "id": "dn3uIjd67X1K",
        "outputId": "1bac3c73-2634-4a19-d01e-783deefbb655"
      },
      "execution_count": null,
      "outputs": [
        {
          "output_type": "stream",
          "name": "stdout",
          "text": [
            "b is greater than a\n"
          ]
        }
      ]
    },
    {
      "cell_type": "code",
      "source": [
        "a=1000\n",
        "b=1000\n",
        "if b>a:\n",
        "  print(\"b is greater than a\")\n",
        "elif a==b:\n",
        "  print(\"a and b are equal\")"
      ],
      "metadata": {
        "colab": {
          "base_uri": "https://localhost:8080/"
        },
        "id": "zn2Wjn5G7lgg",
        "outputId": "8916eb7e-63a3-400a-f35e-5c9d3f0782fc"
      },
      "execution_count": null,
      "outputs": [
        {
          "output_type": "stream",
          "name": "stdout",
          "text": [
            "a and b are equal\n"
          ]
        }
      ]
    },
    {
      "cell_type": "code",
      "source": [
        "a=1000\n",
        "b=5000\n",
        "if b>a:\n",
        "  print(\"b is greater than a\")\n",
        "elif a==b:\n",
        "  print(\"a and b are equal\")"
      ],
      "metadata": {
        "colab": {
          "base_uri": "https://localhost:8080/"
        },
        "id": "65auaY9x8G00",
        "outputId": "75ad5161-5f27-49a7-8310-912811ec7a47"
      },
      "execution_count": null,
      "outputs": [
        {
          "output_type": "stream",
          "name": "stdout",
          "text": [
            "b is greater than a\n"
          ]
        }
      ]
    },
    {
      "cell_type": "code",
      "source": [
        "a=1000\n",
        "b=500\n",
        "if b>a:\n",
        "  print(\"b is greater than a\")\n",
        "elif a==b:\n",
        "  print(\"a and b are equal\")\n",
        "else:\n",
        "  print(\"b is not greater than a\")"
      ],
      "metadata": {
        "colab": {
          "base_uri": "https://localhost:8080/"
        },
        "id": "0iMBs4-f8UPi",
        "outputId": "f6d55491-8a1d-444f-9aae-f98173ded9e3"
      },
      "execution_count": null,
      "outputs": [
        {
          "output_type": "stream",
          "name": "stdout",
          "text": [
            "b is not greater than a\n"
          ]
        }
      ]
    },
    {
      "cell_type": "code",
      "source": [
        "a=1000\n",
        "b=500\n",
        "c=5000\n",
        "if a>b and c>a:\n",
        "  print(\"Both conditions are true\")"
      ],
      "metadata": {
        "colab": {
          "base_uri": "https://localhost:8080/"
        },
        "id": "0SPHSHEl85Wz",
        "outputId": "1957e52a-fc96-4492-efce-918eae1c19af"
      },
      "execution_count": null,
      "outputs": [
        {
          "output_type": "stream",
          "name": "stdout",
          "text": [
            "Both conditions are true\n"
          ]
        }
      ]
    },
    {
      "cell_type": "code",
      "source": [
        "a=1000\n",
        "b=5000\n",
        "c=5000\n",
        "if a>b or c>a:\n",
        "  print(\"At least one conditions is true\")"
      ],
      "metadata": {
        "colab": {
          "base_uri": "https://localhost:8080/"
        },
        "id": "FOX2Mkxg9SnE",
        "outputId": "4de797af-be6f-4a14-fd2b-027836cb7279"
      },
      "execution_count": null,
      "outputs": [
        {
          "output_type": "stream",
          "name": "stdout",
          "text": [
            "At least one conditions is true\n"
          ]
        }
      ]
    },
    {
      "cell_type": "code",
      "source": [
        "print(\"Enter the Binary Number: \")\n",
        "binary = int(input())\n",
        "\n",
        "decimal = 0\n",
        "i = 1\n",
        "while binary!=0:\n",
        "    n = binary%10\n",
        "    decimal = decimal + (n*i)\n",
        "    i = i*2\n",
        "    binary = int(binary/10)\n",
        "\n",
        "print(\"\\nEquivalent Decimal Value = \", decimal)"
      ],
      "metadata": {
        "colab": {
          "base_uri": "https://localhost:8080/"
        },
        "id": "1Yqdszuokvn6",
        "outputId": "2bba076b-ebf0-44fb-a602-91a2b38d5828"
      },
      "execution_count": null,
      "outputs": [
        {
          "output_type": "stream",
          "name": "stdout",
          "text": [
            "Enter the Binary Number: \n",
            "101\n",
            "\n",
            "Equivalent Decimal Value =  5\n"
          ]
        }
      ]
    },
    {
      "cell_type": "markdown",
      "source": [
        "#LOOP STATEMENT"
      ],
      "metadata": {
        "id": "R__IfRxVNdMo"
      }
    },
    {
      "cell_type": "markdown",
      "source": [
        "WHILE LOOP"
      ],
      "metadata": {
        "id": "nKiFQdz4N4IC"
      }
    },
    {
      "cell_type": "code",
      "source": [
        " # while statement\n",
        " i=1\n",
        " while i <=10:\n",
        "    print(i)\n",
        "    i=1+i"
      ],
      "metadata": {
        "colab": {
          "base_uri": "https://localhost:8080/"
        },
        "id": "AH7-sMtC3tEd",
        "outputId": "c8c5df95-dd13-445b-8c3d-8c676c8c6e05"
      },
      "execution_count": null,
      "outputs": [
        {
          "output_type": "stream",
          "name": "stdout",
          "text": [
            "1\n",
            "2\n",
            "3\n",
            "4\n",
            "5\n",
            "6\n",
            "7\n",
            "8\n",
            "9\n",
            "10\n"
          ]
        }
      ]
    },
    {
      "cell_type": "code",
      "source": [
        " # while + if+ break statement\n",
        " i=1\n",
        " while i < 10:\n",
        "    print(i)\n",
        "    if i==3:\n",
        "     break\n",
        "    i+=1"
      ],
      "metadata": {
        "colab": {
          "base_uri": "https://localhost:8080/"
        },
        "id": "UWfRnE0c4Gfe",
        "outputId": "5fd53fed-ddf6-4924-f5aa-be8936f4fbae"
      },
      "execution_count": null,
      "outputs": [
        {
          "output_type": "stream",
          "name": "stdout",
          "text": [
            "1\n",
            "2\n",
            "3\n"
          ]
        }
      ]
    },
    {
      "cell_type": "markdown",
      "source": [
        "FOR LOOP\n"
      ],
      "metadata": {
        "id": "nsIfo6GAPKBa"
      }
    },
    {
      "cell_type": "markdown",
      "source": [
        "For loop: Used for iterating over a sequence that is either a list , a tuple, a dictionary , a set or a string\n"
      ],
      "metadata": {
        "id": "j3x_8EFTPXGG"
      }
    },
    {
      "cell_type": "code",
      "source": [
        "# for loop+string\n",
        "#looping through a string \n",
        "#loop through the word \"Watermelon\"\n",
        "for x in \"Watermelon\":\n",
        "  print(x)"
      ],
      "metadata": {
        "id": "wxm2Kz_u7ARi",
        "colab": {
          "base_uri": "https://localhost:8080/"
        },
        "outputId": "73637abc-8df9-43a4-dc8f-29a2d590f12e"
      },
      "execution_count": null,
      "outputs": [
        {
          "output_type": "stream",
          "name": "stdout",
          "text": [
            "W\n",
            "a\n",
            "t\n",
            "e\n",
            "r\n",
            "m\n",
            "e\n",
            "l\n",
            "o\n",
            "n\n"
          ]
        }
      ]
    },
    {
      "cell_type": "code",
      "source": [
        "#for loop + break\n",
        "# break after the print\n",
        "fruits =[\"Mango\",\"banana\",\"Orange\"]\n",
        "for x in fruits:\n",
        "  print(x)\n",
        "  if x== \"banana\":\n",
        "    break"
      ],
      "metadata": {
        "id": "5sfjBsOJ7Wo3",
        "colab": {
          "base_uri": "https://localhost:8080/"
        },
        "outputId": "9806f1e4-27fc-4633-f6fd-87aed7e2fc6f"
      },
      "execution_count": null,
      "outputs": [
        {
          "output_type": "stream",
          "name": "stdout",
          "text": [
            "Mango\n",
            "banana\n"
          ]
        }
      ]
    },
    {
      "cell_type": "code",
      "source": [
        "fruits =[\"Mango\",\"banana\",\"Orange\"]\n",
        "for x in fruits:\n",
        "  if x==\"banana\":\n",
        "     break\n",
        "  print(x)   "
      ],
      "metadata": {
        "id": "VMlVn-OR84Dl",
        "colab": {
          "base_uri": "https://localhost:8080/"
        },
        "outputId": "ba8403fd-5726-4395-a5e9-fb1395d51f42"
      },
      "execution_count": null,
      "outputs": [
        {
          "output_type": "stream",
          "name": "stdout",
          "text": [
            "Mango\n"
          ]
        }
      ]
    },
    {
      "cell_type": "code",
      "source": [
        "fruits =[\"Mango\",\"banana\",\"Orange\"]\n",
        "for x in fruits:\n",
        "  if x==\"banana\":\n",
        "     continue\n",
        "  print(x)   "
      ],
      "metadata": {
        "id": "NmYjv4sh9ZW7",
        "colab": {
          "base_uri": "https://localhost:8080/"
        },
        "outputId": "b70113b3-49b6-4a74-8d41-42a6df44f012"
      },
      "execution_count": null,
      "outputs": [
        {
          "output_type": "stream",
          "name": "stdout",
          "text": [
            "Mango\n",
            "Orange\n"
          ]
        }
      ]
    },
    {
      "cell_type": "code",
      "source": [
        "for x in range(10):\n",
        "  print(x)"
      ],
      "metadata": {
        "colab": {
          "base_uri": "https://localhost:8080/"
        },
        "id": "h7UbgdzHP9hb",
        "outputId": "0fb0953c-7635-4950-e66e-e7dc79bbca9f"
      },
      "execution_count": null,
      "outputs": [
        {
          "output_type": "stream",
          "name": "stdout",
          "text": [
            "0\n",
            "1\n",
            "2\n",
            "3\n",
            "4\n",
            "5\n",
            "6\n",
            "7\n",
            "8\n",
            "9\n"
          ]
        }
      ]
    },
    {
      "cell_type": "code",
      "source": [
        "#with start parameter\n",
        "for x in range(1,10):\n",
        "  print(x)"
      ],
      "metadata": {
        "colab": {
          "base_uri": "https://localhost:8080/"
        },
        "id": "hQaPWJwBQCXK",
        "outputId": "9f97e688-13ce-45eb-8425-d362fe99a6ba"
      },
      "execution_count": null,
      "outputs": [
        {
          "output_type": "stream",
          "name": "stdout",
          "text": [
            "1\n",
            "2\n",
            "3\n",
            "4\n",
            "5\n",
            "6\n",
            "7\n",
            "8\n",
            "9\n"
          ]
        }
      ]
    },
    {
      "cell_type": "code",
      "source": [
        "#increment parameters(3)\n",
        "for x in range(1,10,1):\n",
        "  print(x)#10 not included"
      ],
      "metadata": {
        "colab": {
          "base_uri": "https://localhost:8080/"
        },
        "id": "JrlUkkLCQFdN",
        "outputId": "00597173-75a5-4b6e-d1b8-c87de73b6d90"
      },
      "execution_count": null,
      "outputs": [
        {
          "output_type": "stream",
          "name": "stdout",
          "text": [
            "1\n",
            "2\n",
            "3\n",
            "4\n",
            "5\n",
            "6\n",
            "7\n",
            "8\n",
            "9\n"
          ]
        }
      ]
    },
    {
      "cell_type": "code",
      "source": [
        "#for loop+else statement\n",
        "#ending the loop with a message\n",
        "for x in range(10):\n",
        "  print(x)\n",
        "else:\n",
        "  print('finally finished')"
      ],
      "metadata": {
        "colab": {
          "base_uri": "https://localhost:8080/"
        },
        "id": "lSyMnW-4QQ-c",
        "outputId": "9ec9f5d1-393c-4fef-ffa9-a6ed757942d5"
      },
      "execution_count": null,
      "outputs": [
        {
          "output_type": "stream",
          "name": "stdout",
          "text": [
            "0\n",
            "1\n",
            "2\n",
            "3\n",
            "4\n",
            "5\n",
            "6\n",
            "7\n",
            "8\n",
            "9\n",
            "finally finished\n"
          ]
        }
      ]
    },
    {
      "cell_type": "code",
      "source": [
        "for x in range(10):\n",
        "  if x==3: break\n",
        "  print(x)\n",
        "else:\n",
        "  print('finally finished')"
      ],
      "metadata": {
        "colab": {
          "base_uri": "https://localhost:8080/"
        },
        "id": "IBObPMUvQQyw",
        "outputId": "da1690ad-045c-4de2-9a47-196ce70c0281"
      },
      "execution_count": null,
      "outputs": [
        {
          "output_type": "stream",
          "name": "stdout",
          "text": [
            "0\n",
            "1\n",
            "2\n"
          ]
        }
      ]
    },
    {
      "cell_type": "code",
      "source": [
        "#nested for loops\n",
        "adj=['Juicy','Big','Tasty']\n",
        "fruits=[\"Mango\",\"Apple\",\"Orange\"]#square brackets so its lists elements are combined and printed here combinely\n",
        "\n",
        "for x in adj:\n",
        " for y in fruits:\n",
        "   print(x,y)"
      ],
      "metadata": {
        "id": "q241hnkhQctr",
        "outputId": "ca215c7f-4aa8-4556-a5b2-e2fab1b005b2",
        "colab": {
          "base_uri": "https://localhost:8080/"
        }
      },
      "execution_count": null,
      "outputs": [
        {
          "output_type": "stream",
          "name": "stdout",
          "text": [
            "Juicy Mango\n",
            "Juicy Apple\n",
            "Juicy Orange\n",
            "Big Mango\n",
            "Big Apple\n",
            "Big Orange\n",
            "Tasty Mango\n",
            "Tasty Apple\n",
            "Tasty Orange\n"
          ]
        }
      ]
    }
  ]
}